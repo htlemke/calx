{
 "cells": [
  {
   "cell_type": "code",
   "execution_count": 1,
   "metadata": {},
   "outputs": [],
   "source": [
    "# from xrayutilities import Experiment, GID, QConversion\n",
    "from xrayutilities import Experiment, QConversion, cxrayutilities\n",
    "from xrayutilities.materials import Si,Ge\n",
    "%matplotlib inline\n",
    "from pylab import *\n",
    "from diffractometer_swissfel import GID as GID_SF\n",
    "from xrayutilities import config, math"
   ]
  },
  {
   "cell_type": "code",
   "execution_count": 2,
   "metadata": {},
   "outputs": [
    {
     "name": "stdout",
     "output_type": "stream",
     "text": [
      "converted alpha_i\n",
      "aref is -31.218402764346376 degrees\n",
      "[91.47255024977659, -28.357596915635913, 62.162481038872905]\n",
      "(3.664733337520902, 2.2210505075884233, 1.1105252537942139)\n",
      "[3.66473334 2.22105051 1.11052525]\n"
     ]
    }
   ],
   "source": [
    "config.ENERGY = 9000.\n",
    "qconv = QConversion(['y+', 'z+'], ['y+', 'z+'], [1, 0, 0])\n",
    "\n",
    "# gid = GID_SF(qconv=qconv)\n",
    "gid = GID_SF(qconv=qconv)\n",
    "\n",
    "gid.Transform([1,0,0])\n",
    "\n",
    "gid.Ang2Q(.5,0,1,0)\n",
    "# gid.scatplane\n",
    "# config.ENERGY\n",
    "\n",
    "# gid.Transform([1,0,0])\n",
    "\n",
    "\n",
    "# print(qconv.transformSample2Lab([0,0,1],45,30)\n",
    "# gid.Ang2Q.init_area('y+','x+',500,0,1001,601, distance=10,pwidth1=0.075,pwidth2=0.075)\n",
    "# angs = gid.Q2Ang(Ge.Q(0,1,1),alpha_i=0)\n",
    "alpha_i = -5\n",
    "q = Ge.Q(3.3,2,1)\n",
    "angs = gid.Q2Ang(q,alpha_i=alpha_i)\n",
    "print(angs)\n",
    "print(gid.Ang2Q.point(alpha_i,angs[0], angs[1],angs[2]))\n",
    "print(q)\n",
    "# gid.Ang2Q.point(1,10,10)"
   ]
  },
  {
   "cell_type": "code",
   "execution_count": 3,
   "metadata": {},
   "outputs": [
    {
     "data": {
      "text/plain": [
       "(3.6687853585818027, 2.378676765676684, 0.6917463182383333)"
      ]
     },
     "execution_count": 3,
     "metadata": {},
     "output_type": "execute_result"
    }
   ],
   "source": [
    "gid.Ang2Q.transformSample2Lab([1,0,0],90,90)\n",
    "gid.Ang2Q.point(alpha_i*-1,angs[0], angs[1],angs[2])"
   ]
  },
  {
   "cell_type": "code",
   "execution_count": null,
   "metadata": {},
   "outputs": [],
   "source": []
  }
 ],
 "metadata": {
  "kernelspec": {
   "display_name": "Python 3",
   "language": "python",
   "name": "python3"
  },
  "language_info": {
   "codemirror_mode": {
    "name": "ipython",
    "version": 3
   },
   "file_extension": ".py",
   "mimetype": "text/x-python",
   "name": "python",
   "nbconvert_exporter": "python",
   "pygments_lexer": "ipython3",
   "version": "3.6.8"
  }
 },
 "nbformat": 4,
 "nbformat_minor": 2
}
