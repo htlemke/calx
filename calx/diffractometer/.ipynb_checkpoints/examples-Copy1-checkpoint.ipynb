{
 "cells": [
  {
   "cell_type": "code",
   "execution_count": 1,
   "metadata": {},
   "outputs": [],
   "source": [
    "# from xrayutilities import Experiment, GID, QConversion\n",
    "from xrayutilities import Experiment, QConversion, cxrayutilities\n",
    "from xrayutilities.materials import Si,Ge\n",
    "%matplotlib inline\n",
    "from pylab import *\n",
    "from diffractometer_swissfel import GID as GID_SF\n",
    "from xrayutilities import config, math"
   ]
  },
  {
   "cell_type": "code",
   "execution_count": 15,
   "metadata": {},
   "outputs": [
    {
     "name": "stdout",
     "output_type": "stream",
     "text": [
      "aref is -90.0 degrees\n",
      "a_ewald is 15.800759655844614 degrees\n",
      "az is 15.800759655844614 degrees\n",
      "ql is [-0.30238826  1.06856337  1.11052525] q is [0.         1.11052525 1.11052525]\n",
      "[0. 1. 0.] [0. 0. 1.] [0.92585652 0.26200425 0.272293  ]\n",
      "aref is -90.0 degrees\n",
      "a_ewald is 13.741288926946968 degrees\n",
      "az is 13.741288926946968 degrees\n",
      "ql is [-0.22487471  1.07874002  1.11905497] q is [0.         1.11052525 1.11052525]\n",
      "[0. 1. 0.] [0. 0. 1.] [0.9448623  0.26449949 0.27438443]\n",
      "[13.741288926946968, -11.93127457383193, 15.337214390648093]\n",
      "(0.005181036587929218, 1.1092582970504508, 0.8046069322552519)\n",
      "[0.         1.11052525 1.11052525]\n"
     ]
    }
   ],
   "source": [
    "config.ENERGY = 9000.\n",
    "qconv = QConversion(['y+', 'z+'], ['y+', 'z+'], [1, 0, 0])\n",
    "\n",
    "gid = GID_SF(qconv=qconv)\n",
    "\n",
    "gid.Transform([1,0,0])\n",
    "\n",
    "gid.Ang2Q(.5,0,1,0)\n",
    "# gid.scatplane\n",
    "# config.ENERGY\n",
    "\n",
    "# gid.Transform([1,0,0])\n",
    "\n",
    "\n",
    "# print(qconv.transformSample2Lab([0,0,1],45,30)\n",
    "# gid.Ang2Q.init_area('y+','x+',500,0,1001,601, distance=10,pwidth1=0.075,pwidth2=0.075)\n",
    "# angs = gid.Q2Ang(Ge.Q(0,1,1),alpha_i=0)\n",
    "alpha_i = 2\n",
    "angs = gid.Q2Ang(Ge.Q(0,1,1),alpha_i=alpha_i)\n",
    "print(angs)\n",
    "print(gid.Ang2Q.point(alpha_i,angs[0], angs[1],angs[2]))\n",
    "print(Ge.Q(0,1,1))\n",
    "# gid.Ang2Q.point(1,10,10)"
   ]
  },
  {
   "cell_type": "code",
   "execution_count": 4,
   "metadata": {},
   "outputs": [
    {
     "data": {
      "text/plain": [
       "1.0000000002467864"
      ]
     },
     "execution_count": 4,
     "metadata": {},
     "output_type": "execute_result"
    }
   ],
   "source": [
    "math.VecNorm([0.92585652, 0.26200425, 0.272293  ])"
   ]
  },
  {
   "cell_type": "code",
   "execution_count": null,
   "metadata": {},
   "outputs": [],
   "source": []
  }
 ],
 "metadata": {
  "kernelspec": {
   "display_name": "Python 3",
   "language": "python",
   "name": "python3"
  },
  "language_info": {
   "codemirror_mode": {
    "name": "ipython",
    "version": 3
   },
   "file_extension": ".py",
   "mimetype": "text/x-python",
   "name": "python",
   "nbconvert_exporter": "python",
   "pygments_lexer": "ipython3",
   "version": "3.6.8"
  }
 },
 "nbformat": 4,
 "nbformat_minor": 2
}
