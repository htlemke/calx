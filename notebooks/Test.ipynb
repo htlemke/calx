{
 "cells": [
  {
   "cell_type": "code",
   "execution_count": 8,
   "metadata": {},
   "outputs": [],
   "source": [
    "from calx.pumpprobe import grazingIncTimeres\n",
    "from ipywidgets import interact,FloatText\n",
    "import numpy as np"
   ]
  },
  {
   "cell_type": "code",
   "execution_count": 13,
   "metadata": {},
   "outputs": [
    {
     "data": {
      "application/vnd.jupyter.widget-view+json": {
       "model_id": "acd7428ac7d5432eba2f9870932c647b",
       "version_major": 2,
       "version_minor": 0
      },
      "text/plain": [
       "interactive(children=(FloatText(value=0.5, description='Probe size (mm)', step=0.01, style=DescriptionStyle(de…"
      ]
     },
     "metadata": {},
     "output_type": "display_data"
    },
    {
     "data": {
      "text/plain": [
       "<function __main__.grazingIncTimeres_degmm_fs(probeSize, probeAng, pumpAng)>"
      ]
     },
     "execution_count": 13,
     "metadata": {},
     "output_type": "execute_result"
    }
   ],
   "source": [
    "style = {'description_width': 'initial'}\n",
    "\n",
    "def grazingIncTimeres_degmm_fs(probeSize, probeAng, pumpAng):\n",
    "    return grazingIncTimeres(probeSize*1e-3, probeAng*np.pi/180, pumpAng*np.pi/180)*1e15\n",
    "\n",
    "interact(grazingIncTimeres_degmm_fs,\n",
    "         probeSize=FloatText(value=0.5,step=0.01,description='Probe size (mm)',style=style),\n",
    "         probeAng=FloatText(value=.5,step=0.05,description='Probe angle (deg)',style=style),\n",
    "         pumpAng=FloatText(value=5,step=0.1,description='Pump angle (deg)',style=style),\n",
    "        )\n",
    "\n"
   ]
  },
  {
   "cell_type": "code",
   "execution_count": null,
   "metadata": {},
   "outputs": [],
   "source": []
  }
 ],
 "metadata": {
  "kernelspec": {
   "display_name": "Python 3",
   "language": "python",
   "name": "python3"
  },
  "language_info": {
   "codemirror_mode": {
    "name": "ipython",
    "version": 3
   },
   "file_extension": ".py",
   "mimetype": "text/x-python",
   "name": "python",
   "nbconvert_exporter": "python",
   "pygments_lexer": "ipython3",
   "version": "3.6.8"
  }
 },
 "nbformat": 4,
 "nbformat_minor": 2
}
